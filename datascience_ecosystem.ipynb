{
 "cells": [
  {
   "cell_type": "markdown",
   "id": "82ff79b9-4ec2-4eee-b217-b22ddcf84b87",
   "metadata": {},
   "source": [
    "# Data science tool and ecosystem"
   ]
  },
  {
   "cell_type": "markdown",
   "id": "bf718305-8cf2-46e8-8ffb-d245f3a05908",
   "metadata": {},
   "source": [
    "In this notebook, Data Science Tools and Ecosystem are summarized."
   ]
  },
  {
   "cell_type": "markdown",
   "id": "967be465-097d-45cc-9cc0-8662dc363bd5",
   "metadata": {},
   "source": [
    "**Objectives**\n",
    "- List of popular languages used in data science.\n",
    "- Identify commonly used libraries in data science\n",
    "- Basic data science tools."
   ]
  },
  {
   "cell_type": "markdown",
   "id": "39a12159-27f0-40b5-a2ed-e65be59aca4c",
   "metadata": {},
   "source": [
    "Some of the popular languages that Data Scientists use are:\n",
    "1. Python\n",
    "2. R\n",
    "3. Julia"
   ]
  },
  {
   "cell_type": "markdown",
   "id": "796a8013-d761-4463-9f96-1c79101bc3fa",
   "metadata": {},
   "source": [
    "Some of the commonly used libraries used by Data Scientists include:\n",
    "1. Pandas\n",
    "2. NumPy\n",
    "3. Matplotlib"
   ]
  },
  {
   "cell_type": "markdown",
   "id": "fb0a9760-bd81-40eb-9c04-f326caa89dca",
   "metadata": {},
   "source": [
    "| Data Science Tools|\n",
    "|-------------------|\n",
    "| Jupyter Notebook  |\n",
    "| Apache Zeppelin   |\n",
    "| RStudio           |"
   ]
  },
  {
   "cell_type": "markdown",
   "id": "ecf3d7b6-0d67-4efc-b155-62b046cea656",
   "metadata": {},
   "source": [
    "### Below are a few examples of evaluating arithmetic expressions in Python:"
   ]
  },
  {
   "cell_type": "code",
   "execution_count": 6,
   "id": "940b1fda-ffdb-42f0-bb8c-44f965971936",
   "metadata": {},
   "outputs": [
    {
     "data": {
      "text/plain": [
       "17"
      ]
     },
     "execution_count": 6,
     "metadata": {},
     "output_type": "execute_result"
    }
   ],
   "source": [
    "#This is a simple arithmetic expression to multiply then add integers.\n",
    "(3 * 4)+5"
   ]
  },
  {
   "cell_type": "code",
   "execution_count": 9,
   "id": "d3c49789-e902-4ad7-825d-c4ebd20f15b4",
   "metadata": {},
   "outputs": [
    {
     "data": {
      "text/plain": [
       "3.3333333333333335"
      ]
     },
     "execution_count": 9,
     "metadata": {},
     "output_type": "execute_result"
    }
   ],
   "source": [
    "#  This will convert 200 minutes to hours by diving by 60.\n",
    "minutes = 200\n",
    "Hours = minutes / 60\n",
    "Hours"
   ]
  },
  {
   "cell_type": "markdown",
   "id": "522d0213-0a09-4d0c-a56f-e1c3a7b130c3",
   "metadata": {},
   "source": [
    "## Author ##\n",
    "Karasala Rachel Mano Varshitha"
   ]
  },
  {
   "cell_type": "code",
   "execution_count": null,
   "id": "10e9f20e-7e35-422f-9f6a-147772bd59c5",
   "metadata": {},
   "outputs": [],
   "source": []
  }
 ],
 "metadata": {
  "kernelspec": {
   "display_name": "Python 3 (ipykernel)",
   "language": "python",
   "name": "python3"
  },
  "language_info": {
   "codemirror_mode": {
    "name": "ipython",
    "version": 3
   },
   "file_extension": ".py",
   "mimetype": "text/x-python",
   "name": "python",
   "nbconvert_exporter": "python",
   "pygments_lexer": "ipython3",
   "version": "3.11.9"
  }
 },
 "nbformat": 4,
 "nbformat_minor": 5
}
